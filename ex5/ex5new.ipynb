{
 "cells": [
  {
   "cell_type": "code",
   "execution_count": 27,
   "outputs": [],
   "source": [
    "import numpy as np\n",
    "import scipy.io as sio\n",
    "import scipy.optimize as opt\n",
    "import pandas as pd\n",
    "import matplotlib.pyplot as plt\n",
    "import seaborn as sns"
   ],
   "metadata": {
    "collapsed": false,
    "pycharm": {
     "name": "#%%\n"
    }
   }
  },
  {
   "cell_type": "code",
   "execution_count": 28,
   "outputs": [
    {
     "data": {
      "text/plain": "(array([-15.93675813, -29.15297922,  36.18954863,  37.49218733,\n        -48.05882945,  -8.94145794,  15.30779289, -34.70626581,\n          1.38915437, -44.38375985,   7.01350208,  22.76274892]),\n array([ 2.13431051,  1.17325668, 34.35910918, 36.83795516,  2.80896507,\n         2.12107248, 14.71026831,  2.61418439,  3.74017167,  3.73169131,\n         7.62765885, 22.7524283 ]),\n array([-16.74653578, -14.57747075,  34.51575866, -47.01007574,\n         36.97511905, -40.68611002,  -4.47201098,  26.53363489,\n        -42.7976831 ,  25.37409938, -31.10955398,  27.31176864,\n         -3.26386201,  -1.81827649, -40.7196624 , -50.01324365,\n        -17.41177155,   3.5881937 ,   7.08548026,  46.28236902,\n         14.61228909]),\n array([ 4.17020201e+00,  4.06726280e+00,  3.18730676e+01,  1.06236562e+01,\n         3.18360213e+01,  4.95936972e+00,  4.45159880e+00,  2.22763185e+01,\n        -4.38738274e-05,  2.05038016e+01,  3.85834476e+00,  1.93650529e+01,\n         4.88376281e+00,  1.10971588e+01,  7.46170827e+00,  1.47693464e+00,\n         2.71916388e+00,  1.09269007e+01,  8.34871235e+00,  5.27819280e+01,\n         1.33573396e+01]),\n array([-33.31800399, -37.91216403, -51.20693795,  -6.13259585,\n         21.26118327, -40.31952949, -14.54153167,  32.55976024,\n         13.39343255,  44.20988595,  -1.14267768, -12.76686065,\n         34.05450539,  39.22350028,   1.97449674,  29.6217551 ,\n        -23.66962971,  -9.01180139, -55.94057091, -35.70859752,\n          9.51020533]),\n array([ 3.31688953,  5.39768952,  0.13042984,  6.1925982 , 17.08848712,\n         0.79950805,  2.82479183, 28.62123334, 17.04639081, 55.38437334,\n         4.07936733,  8.27039793, 31.32355102, 39.15906103,  8.08727989,\n        24.11134389,  2.4773548 ,  6.56606472,  6.0380888 ,  4.69273956,\n        10.83004606]))"
     },
     "execution_count": 28,
     "metadata": {},
     "output_type": "execute_result"
    }
   ],
   "source": [
    "def load_data():\n",
    "    d = sio.loadmat('ex5data1.mat')\n",
    "    return map(np.ravel, [d['X'], d['y'], d['Xval'], d['yval'], d['Xtest'], d['ytest']])\n",
    "\n",
    "\n",
    "# map(func, item)函数中，item这个位置必须是一个迭代器，所以这个中括号不能去，用来凑成一个列表。\n",
    "\n",
    "X, y, Xval, yval, Xtest, ytest = load_data()\n",
    "X, y, Xval, yval, Xtest, ytest"
   ],
   "metadata": {
    "collapsed": false,
    "pycharm": {
     "name": "#%%\n"
    }
   }
  },
  {
   "cell_type": "code",
   "execution_count": 29,
   "outputs": [
    {
     "name": "stderr",
     "output_type": "stream",
     "text": [
      "E:\\develop\\anaconda\\anaconda3\\lib\\site-packages\\seaborn\\_decorators.py:36: FutureWarning: Pass the following variables as keyword args: x, y. From version 0.12, the only valid positional argument will be `data`, and passing other arguments without an explicit keyword will result in an error or misinterpretation.\n",
      "  warnings.warn(\n",
      "E:\\develop\\anaconda\\anaconda3\\lib\\site-packages\\seaborn\\regression.py:581: UserWarning: The `size` parameter has been renamed to `height`; please update your code.\n",
      "  warnings.warn(msg, UserWarning)\n"
     ]
    },
    {
     "data": {
      "text/plain": "<Figure size 504x504 with 1 Axes>",
      "image/png": "[encoded data removed]"
     },
     "metadata": {
      "needs_background": "light"
     },
     "output_type": "display_data"
    }
   ],
   "source": [
    "df = pd.DataFrame({'water_level': X, 'flow': y})  # 使用字典创建DataFrame\n",
    "sns.lmplot('water_level', 'flow', data=df, fit_reg=False, size=7)  # fit_reg参数默认是True，绘制回归模型\n",
    "\n",
    "plt.show()"
   ],
   "metadata": {
    "collapsed": false,
    "pycharm": {
     "name": "#%%\n"
    }
   }
  },
  {
   "cell_type": "code",
   "execution_count": 30,
   "outputs": [
    {
     "data": {
      "text/plain": "array([[  1.        , -15.93675813],\n       [  1.        , -29.15297922],\n       [  1.        ,  36.18954863],\n       [  1.        ,  37.49218733],\n       [  1.        , -48.05882945],\n       [  1.        ,  -8.94145794],\n       [  1.        ,  15.30779289],\n       [  1.        , -34.70626581],\n       [  1.        ,   1.38915437],\n       [  1.        , -44.38375985],\n       [  1.        ,   7.01350208],\n       [  1.        ,  22.76274892]])"
     },
     "execution_count": 30,
     "metadata": {},
     "output_type": "execute_result"
    }
   ],
   "source": [
    "X, Xval, Xtest = [np.insert(x.reshape(x.shape[0], 1), 0, np.ones(x.shape[0]), axis=1) for x in (X, Xval, Xtest)]\n",
    "# 元组(X, Xval, Xtest)中三元素的列数不一致，如果去掉reshape就会因为这个问题报错\n",
    "\n",
    "X"
   ],
   "metadata": {
    "collapsed": false,
    "pycharm": {
     "name": "#%%\n"
    }
   }
  },
  {
   "cell_type": "code",
   "execution_count": 31,
   "outputs": [
    {
     "data": {
      "text/plain": "303.9515255535976"
     },
     "execution_count": 31,
     "metadata": {},
     "output_type": "execute_result"
    }
   ],
   "source": [
    "def cost(theta, X, y):\n",
    "    # INPUT：参数值theta，数据X,标签y\n",
    "    # OUTPUT：当前参数值下代价函数\n",
    "    # TODO：根据参数和输入的数据计算代价函数\n",
    "\n",
    "    # STEP1：获取样本个数\n",
    "    m = X.shape[0]\n",
    "\n",
    "    # STEP2：计算代价函数\n",
    "    inner = (X @ theta) - y\n",
    "    cost = (1 / (2 * m)) * (inner.T @ inner)\n",
    "\n",
    "    return float(cost)\n",
    "\n",
    "\n",
    "theta = np.ones(X.shape[1])\n",
    "cost(theta, X, y)"
   ],
   "metadata": {
    "collapsed": false,
    "pycharm": {
     "name": "#%%\n"
    }
   }
  },
  {
   "cell_type": "code",
   "execution_count": 32,
   "outputs": [
    {
     "data": {
      "text/plain": "array([-15.30301567, 598.16741084])"
     },
     "execution_count": 32,
     "metadata": {},
     "output_type": "execute_result"
    }
   ],
   "source": [
    "def gradient(theta, X, y):\n",
    "    # INPUT：参数值theta，数据X,标签y\n",
    "    # OUTPUT：当前参数值下梯度\n",
    "    # TODO：根据参数和输入的数据计算梯度\n",
    "\n",
    "    # STEP1：获取样本个数\n",
    "    m = X.shape[0]\n",
    "    # theta = theta.reshape(theta.shape[0], 1)\n",
    "\n",
    "    # STEP2：计算代价函数\n",
    "    grad = (1 / m) * (X.T @ (X @ theta - y))\n",
    "    return grad\n",
    "\n",
    "\n",
    "gradient(theta, X, y)"
   ],
   "metadata": {
    "collapsed": false,
    "pycharm": {
     "name": "#%%\n"
    }
   }
  },
  {
   "cell_type": "code",
   "execution_count": 33,
   "outputs": [
    {
     "data": {
      "text/plain": "array([-15.30301567, 598.25074417])"
     },
     "execution_count": 33,
     "metadata": {},
     "output_type": "execute_result"
    }
   ],
   "source": [
    "def regularized_cost(theta, X, y, l=1):\n",
    "    m = X.shape[0]\n",
    "    regularized_term = (l / (2 * m)) * np.power(theta[1:], 2).sum()\n",
    "    return cost(theta, X, y) + regularized_term\n",
    "\n",
    "\n",
    "def regularized_gradient(theta, X, y, l=1):\n",
    "    m = X.shape[0]\n",
    "    regularized_term = theta.copy()\n",
    "\n",
    "    regularized_term[0] = 0\n",
    "    regularized_term = regularized_term * l / m\n",
    "\n",
    "    return regularized_term + gradient(theta, X, y)\n",
    "\n",
    "\n",
    "regularized_gradient(theta, X, y)"
   ],
   "metadata": {
    "collapsed": false,
    "pycharm": {
     "name": "#%%\n"
    }
   }
  },
  {
   "cell_type": "code",
   "execution_count": 34,
   "outputs": [
    {
     "data": {
      "text/plain": "<Figure size 432x288 with 1 Axes>",
      "image/png": "[encoded data removed]"
     },
     "metadata": {
      "needs_background": "light"
     },
     "output_type": "display_data"
    }
   ],
   "source": [
    "def linear_regression_np(X, y, l=1):\n",
    "    # STEP1：初始化参数\n",
    "    theta = np.ones(X.shape[1])\n",
    "\n",
    "    # STEP2：调用优化算法拟合参数\n",
    "    res = opt.minimize(fun=regularized_cost,\n",
    "                       x0=theta,\n",
    "                       args=(X, y, l),\n",
    "                       method='TNC',\n",
    "                       jac=regularized_gradient,\n",
    "                       options={'disp': True})\n",
    "    return res\n",
    "\n",
    "\n",
    "final_theta = linear_regression_np(X, y, l=0).get('x')\n",
    "b = final_theta[0]\n",
    "m = final_theta[1]\n",
    "\n",
    "plt.scatter(X[:, 1], y, label=\"Training data\")\n",
    "plt.plot(X[:, 1], X[:, 1] * m + b, label=\"Prediction\")\n",
    "plt.legend(loc=2)\n",
    "plt.show()"
   ],
   "metadata": {
    "collapsed": false,
    "pycharm": {
     "name": "#%%\n"
    }
   }
  },
  {
   "cell_type": "code",
   "execution_count": 35,
   "outputs": [
    {
     "data": {
      "text/plain": "<Figure size 432x288 with 1 Axes>",
      "image/png": "[encoded data removed]"
     },
     "metadata": {
      "needs_background": "light"
     },
     "output_type": "display_data"
    }
   ],
   "source": [
    "training_cost, cv_cost = [], []\n",
    "m = X.shape[0]\n",
    "\n",
    "for i in range(1, m + 1):\n",
    "    # STEP2：计算不同样本数训练出的模型的代价\n",
    "    res = linear_regression_np(X[:i, :], y[:i], l=0)\n",
    "\n",
    "    tc = regularized_cost(res.x, X[:i, :], y[:i], l=0)\n",
    "    cv = cost(res.x, Xval, yval)\n",
    "\n",
    "    # STEP3：把计算结果存储至预先定义的数组training_cost, cv_cost中\n",
    "    training_cost.append(tc)\n",
    "    cv_cost.append(cv)\n",
    "\n",
    "plt.plot(np.arange(1, m + 1), training_cost, label='training cost')\n",
    "plt.plot(np.arange(1, m + 1), cv_cost, label='cv cost')\n",
    "plt.legend(loc=1)\n",
    "plt.show()"
   ],
   "metadata": {
    "collapsed": false,
    "pycharm": {
     "name": "#%%\n"
    }
   }
  },
  {
   "cell_type": "code",
   "execution_count": 36,
   "outputs": [],
   "source": [
    "def prepare_poly_data(*args, power):\n",
    "    def prepare(x):\n",
    "        # 特征映射\n",
    "        df = poly_features(x, power=power)\n",
    "\n",
    "        # 归一化处理\n",
    "        ndarr = np.matrix(normalize_feature(df))\n",
    "\n",
    "        # 添加偏置项\n",
    "        return np.insert(ndarr, 0, np.ones(ndarr.shape[0]), axis=1)\n",
    "\n",
    "    return [prepare(x) for x in args]\n",
    "\n",
    "\n",
    "# 特征映射函数，返回的是DataFrame\n",
    "def poly_features(x, power, as_ndarray=False):\n",
    "    data = {'f{}'.format(i): np.power(x, i) for i in range(1, power + 1)}\n",
    "    df = pd.DataFrame(data)\n",
    "\n",
    "    return df.as_matrix() if as_ndarray else df\n",
    "\n",
    "\n",
    "# 归一化函数\n",
    "def normalize_feature(df):\n",
    "    return df.apply(lambda column: (column - column.mean()) / column.std())\n",
    "\n",
    "\n",
    "X, y, Xval, yval, Xtest, ytest = load_data()\n",
    "X_poly, Xval_poly, Xtest_poly = prepare_poly_data(X, Xval, Xtest, power=8)\n",
    "\n",
    "# 将得到的三个矩阵转换为数组\n",
    "X_poly = X_poly.A\n",
    "Xval_poly = Xval_poly.A\n",
    "Xtest_poly = Xtest_poly.A"
   ],
   "metadata": {
    "collapsed": false,
    "pycharm": {
     "name": "#%%\n"
    }
   }
  },
  {
   "cell_type": "code",
   "execution_count": 37,
   "outputs": [
    {
     "data": {
      "text/plain": "<Figure size 432x288 with 1 Axes>",
      "image/png": "[encoded data removed]"
     },
     "metadata": {
      "needs_background": "light"
     },
     "output_type": "display_data"
    }
   ],
   "source": [
    "def plot_learning_curve(X, y, Xval, yval, l=0):\n",
    "    # STEP1：初始化参数，获取样本个数，开始遍历\n",
    "    training_cost, cv_cost = [], []\n",
    "    m = X.shape[0]\n",
    "\n",
    "    for i in range(1, m + 1):\n",
    "        # STEP2：调用之前写好的拟合数据函数进行数据拟合\n",
    "        res = linear_regression_np(X[:i, :], y[:i], l)  # 注意这里是l，那么就可以根据函数给的l值进行限制\n",
    "\n",
    "        # STEP3：计算样本代价\n",
    "        tc = cost(res.x, X[:i, :], y[:i])\n",
    "        cv = cost(res.x, Xval, yval)\n",
    "\n",
    "        # STEP3：把计算结果存储至预先定义的数组training_cost, cv_cost中\n",
    "        training_cost.append(tc)\n",
    "        cv_cost.append(cv)\n",
    "\n",
    "    plt.plot(np.arange(1, m + 1), training_cost, label='training cost')\n",
    "    plt.plot(np.arange(1, m + 1), cv_cost, label='cv cost')\n",
    "    plt.legend(loc=1)\n",
    "\n",
    "\n",
    "theta = np.ones(9)\n",
    "plot_learning_curve(X_poly, y, Xval_poly, yval, l=0)  # 先不用正则化\n",
    "\n",
    "plt.show()"
   ],
   "metadata": {
    "collapsed": false,
    "pycharm": {
     "name": "#%%\n"
    }
   }
  },
  {
   "cell_type": "code",
   "execution_count": 38,
   "outputs": [
    {
     "data": {
      "text/plain": "<Figure size 432x288 with 1 Axes>",
      "image/png": "[encoded data removed]"
     },
     "metadata": {
      "needs_background": "light"
     },
     "output_type": "display_data"
    }
   ],
   "source": [
    "plot_learning_curve(X_poly, y, Xval_poly, yval, l=1)\n",
    "plt.show()"
   ],
   "metadata": {
    "collapsed": false,
    "pycharm": {
     "name": "#%%\n"
    }
   }
  },
  {
   "cell_type": "code",
   "execution_count": 39,
   "outputs": [
    {
     "data": {
      "text/plain": "<Figure size 432x288 with 1 Axes>",
      "image/png": "[encoded data removed]"
     },
     "metadata": {
      "needs_background": "light"
     },
     "output_type": "display_data"
    }
   ],
   "source": [
    "plot_learning_curve(X_poly, y, Xval_poly, yval, l=20)\n",
    "plt.show()"
   ],
   "metadata": {
    "collapsed": false,
    "pycharm": {
     "name": "#%%\n"
    }
   }
  },
  {
   "cell_type": "code",
   "execution_count": 40,
   "outputs": [
    {
     "data": {
      "text/plain": "<Figure size 432x288 with 1 Axes>",
      "image/png": "[encoded data removed]"
     },
     "metadata": {
      "needs_background": "light"
     },
     "output_type": "display_data"
    }
   ],
   "source": [
    "l_candidate = [0, 0.001, 0.003, 0.01, 0.03, 0.1, 0.3, 1, 3, 10]\n",
    "training_cost, cv_cost = [], []\n",
    "for l in l_candidate:\n",
    "    res = linear_regression_np(X_poly, y, l)\n",
    "\n",
    "    tc = cost(res.x, X_poly, y)\n",
    "    cv = cost(res.x, Xval_poly, yval)\n",
    "\n",
    "    training_cost.append(tc)\n",
    "    cv_cost.append(cv)\n",
    "\n",
    "plt.plot(l_candidate, training_cost, label='training')\n",
    "plt.plot(l_candidate, cv_cost, label='cross validation')\n",
    "plt.legend(loc=4)\n",
    "\n",
    "plt.xlabel('lambda')\n",
    "plt.ylabel('cost')\n",
    "\n",
    "plt.show()"
   ],
   "metadata": {
    "collapsed": false,
    "pycharm": {
     "name": "#%%\n"
    }
   }
  },
  {
   "cell_type": "code",
   "execution_count": 41,
   "outputs": [
    {
     "data": {
      "text/plain": "1"
     },
     "execution_count": 41,
     "metadata": {},
     "output_type": "execute_result"
    }
   ],
   "source": [
    "# 找到使交叉验证误差最小的正则化系数\n",
    "l_candidate[np.argmin(cv_cost)]"
   ],
   "metadata": {
    "collapsed": false,
    "pycharm": {
     "name": "#%%\n"
    }
   }
  },
  {
   "cell_type": "code",
   "execution_count": 42,
   "outputs": [
    {
     "name": "stdout",
     "output_type": "stream",
     "text": [
      "test cost(l=1) = 7.466293335389994\n"
     ]
    }
   ],
   "source": [
    "# 看一下最好的正则化系数对应的测试误差\n",
    "final_res = linear_regression_np(X_poly, y, 1)\n",
    "print('test cost(l={}) = {}'.format(1, cost(final_res.x, Xtest_poly, ytest)))\n"
   ],
   "metadata": {
    "collapsed": false,
    "pycharm": {
     "name": "#%%\n"
    }
   }
  }
 ],
 "metadata": {
  "kernelspec": {
   "name": "pycharm-6886eb99",
   "language": "python",
   "display_name": "PyCharm (machine learning)"
  },
  "language_info": {
   "codemirror_mode": {
    "name": "ipython",
    "version": 2
   },
   "file_extension": ".py",
   "mimetype": "text/x-python",
   "name": "python",
   "nbconvert_exporter": "python",
   "pygments_lexer": "ipython2",
   "version": "2.7.6"
  }
 },
 "nbformat": 4,
 "nbformat_minor": 0
}